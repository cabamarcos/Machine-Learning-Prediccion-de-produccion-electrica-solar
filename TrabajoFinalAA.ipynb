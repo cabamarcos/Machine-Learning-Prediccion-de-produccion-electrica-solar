{
  "nbformat": 4,
  "nbformat_minor": 0,
  "metadata": {
    "colab": {
      "provenance": [],
      "include_colab_link": true
    },
    "kernelspec": {
      "name": "python3",
      "display_name": "Python 3"
    },
    "language_info": {
      "name": "python"
    }
  },
  "cells": [
    {
      "cell_type": "markdown",
      "metadata": {
        "id": "view-in-github",
        "colab_type": "text"
      },
      "source": [
        "<a href=\"https://colab.research.google.com/github/javiase/Grupo27-Practica1/blob/main/TrabajoFinalAA.ipynb\" target=\"_parent\"><img src=\"https://colab.research.google.com/assets/colab-badge.svg\" alt=\"Open In Colab\"/></a>"
      ]
    },
    {
      "cell_type": "markdown",
      "source": [
        "Para comenzar realizaremos todas las importaciones necesarias"
      ],
      "metadata": {
        "id": "ehVnUtvBtlPL"
      }
    },
    {
      "cell_type": "code",
      "execution_count": 1,
      "metadata": {
        "id": "mtWXvVXRuauh"
      },
      "outputs": [],
      "source": [
        "import numpy as np\n",
        "import pandas as pd\n",
        "import matplotlib.pyplot as plt\n",
        "\n",
        "#preprocessing\n",
        "from sklearn import preprocessing\n",
        "from sklearn.preprocessing import OneHotEncoder\n",
        "from sklearn.compose import ColumnTransformer\n",
        "from sklearn.compose import make_column_selector as selector\n",
        "\n",
        "#decisiontrees\n",
        "from sklearn import tree\n",
        "from sklearn import metrics\n",
        "\n",
        "#knn\n",
        "from sklearn.neighbors import KNeighborsClassifier\n",
        "from sklearn.neighbors import KNeighborsRegressor\n",
        "\n",
        "#traintest\n",
        "from sklearn.model_selection import train_test_split\n",
        "\n",
        "#crossval\n",
        "from sklearn.model_selection import cross_val_score, KFold"
      ]
    },
    {
      "cell_type": "markdown",
      "source": [
        "Implementamos el modelo de datos\n"
      ],
      "metadata": {
        "id": "31VRA3T3uNB2"
      }
    },
    {
      "cell_type": "code",
      "source": [
        "disp_df = pd.read_csv(\"disp_st27ns1.txt.bz2\", compression=\"bz2\",index_col=0)\n",
        "#comp_df = pd.read_csv(\"comp_st27ns1.txt.bz2\",compression=\"bz2\",index_col=0)"
      ],
      "metadata": {
        "id": "8E2M1wx0uM2W"
      },
      "execution_count": 2,
      "outputs": []
    }
  ]
}